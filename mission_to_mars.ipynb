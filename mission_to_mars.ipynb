{
 "cells": [
  {
   "cell_type": "code",
   "execution_count": 105,
   "metadata": {},
   "outputs": [],
   "source": [
    "import time\n",
    "from splinter import Browser\n",
    "from bs4 import BeautifulSoup as bs\n",
    "import pandas as pd\n",
    "import numpy as np\n",
    "from selenium import webdriver\n",
    "from selenium.webdriver.common.keys import Keys\n",
    "import requests as req\n",
    "import re\n",
    "\n",
    "from splinter import browser\n",
    "from selenium import webdriver"
   ]
  },
  {
   "cell_type": "code",
   "execution_count": null,
   "metadata": {},
   "outputs": [],
   "source": []
  },
  {
   "cell_type": "code",
   "execution_count": 109,
   "metadata": {},
   "outputs": [],
   "source": [
    "def scrape_all():\n",
    "url = \"https://mars.nasa.gov/news/\" \n",
    "response = req.get(url)\n",
    "soup = bs(response.text, 'html5lib')"
   ]
  },
  {
   "cell_type": "code",
   "execution_count": 126,
   "metadata": {},
   "outputs": [],
   "source": [
    "news_url = \"https://mars.nasa.gov/news/\"\n",
    "news_browser = webdriver.Chrome()\n",
    "news_browser.get(news_url)\n",
    "time.sleep(1)\n",
    "news_titles = news_browser.find_elements_by_tag_name('a')\n",
    "news_bodies = news_browser.find_elements_by_class_name('article_teaser_body')\n",
    "all_titles = []\n",
    "all_bodies = []\n",
    "for title in news_titles:\n",
    "    all_titles.append(title.text)\n",
    "for body in news_bodies:\n",
    "    all_bodies.append(body.text)\n",
    "    \n",
    "    \n",
    "    \n",
    "news_browser.quit()"
   ]
  },
  {
   "cell_type": "code",
   "execution_count": 131,
   "metadata": {},
   "outputs": [
    {
     "name": "stdout",
     "output_type": "stream",
     "text": [
      "NASA's MRO Completes 60,000 Trips Around Mars\n",
      "The orbiting spacecraft is also about to set a record for data relayed from the Martian surface.\n"
     ]
    }
   ],
   "source": [
    "news_title = all_titles[35]\n",
    "news_desc = all_bodies[0]\n",
    "\n",
    "print(news_title)\n",
    "print(news_desc)\n"
   ]
  },
  {
   "cell_type": "code",
   "execution_count": 92,
   "metadata": {},
   "outputs": [],
   "source": [
    "# MARS IMAGE CAPTURE\n",
    "# -----------------------------------------------------------------------------------------------------\n",
    "\n",
    "executable_path = {'executable_path' : 'chromedriver'}\n",
    "browser = Browser('chrome', **executable_path, headless=False)\n",
    "pre_featured_image_url = \"https://www.jpl.nasa.gov/spaceimages/?search=&category=Mars\"\n",
    "browser.visit(pre_featured_image_url)"
   ]
  },
  {
   "cell_type": "code",
   "execution_count": 93,
   "metadata": {},
   "outputs": [],
   "source": [
    "html = browser.html\n",
    "soup = bs(html, \"html.parser\")"
   ]
  },
  {
   "cell_type": "code",
   "execution_count": 94,
   "metadata": {},
   "outputs": [],
   "source": [
    "browser.click_link_by_partial_text(\"FULL IMAGE\")\n",
    "time.sleep(2)"
   ]
  },
  {
   "cell_type": "code",
   "execution_count": 95,
   "metadata": {},
   "outputs": [],
   "source": [
    "browser.click_link_by_partial_text('more info')"
   ]
  },
  {
   "cell_type": "code",
   "execution_count": 96,
   "metadata": {},
   "outputs": [
    {
     "name": "stdout",
     "output_type": "stream",
     "text": [
      "https://www.jpl.nasa.gov/spaceimages/images/largesize/PIA18295_hires.jpg\n"
     ]
    }
   ],
   "source": [
    "fi_html = browser.html\n",
    "fi_soup = bs(fi_html, 'html.parser')\n",
    "fi_url = fi_soup.find('img', class_='main_image')\n",
    "url_part2 = fi_url.get('src')\n",
    "\n",
    "featured_image_link = \"https://www.jpl.nasa.gov\" + url_part2\n",
    "\n",
    "print(featured_image_link)\n",
    "browser.quit()"
   ]
  },
  {
   "cell_type": "code",
   "execution_count": 132,
   "metadata": {},
   "outputs": [],
   "source": [
    "# TWITTER\n",
    "# -----------------------------------------------------------------------------------------------------\n",
    "\n",
    "twitter_url = \"https://twitter.com/marswxreport?lang=en\"\n",
    "twitter_browser = webdriver.Chrome()"
   ]
  },
  {
   "cell_type": "code",
   "execution_count": 133,
   "metadata": {},
   "outputs": [],
   "source": [
    "twitter_browser.get(twitter_url)\n",
    "time.sleep(1)"
   ]
  },
  {
   "cell_type": "code",
   "execution_count": 134,
   "metadata": {},
   "outputs": [],
   "source": [
    "twitter_body = twitter_browser.find_element_by_tag_name('body')"
   ]
  },
  {
   "cell_type": "code",
   "execution_count": 135,
   "metadata": {},
   "outputs": [
    {
     "name": "stdout",
     "output_type": "stream",
     "text": [
      "InSight sol 167 (2019-05-17) low -100.5ºC (-148.9ºF) high -20.4ºC (-4.6ºF)\n",
      "winds from the SW at 4.7 m/s (10.6 mph) gusting to 13.5 m/s (30.3 mph)\n",
      "pressure at 7.50 hPa\n",
      "InSight sol 166 (2019-05-15) low -100.5ºC (-148.8ºF) high -20.5ºC (-4.8ºF)\n",
      "winds from the W at 4.2 m/s (9.4 mph) gusting to 11.7 m/s (26.2 mph)\n",
      "pressure at 7.50 hPa\n",
      "This is what a sunset on Earth looks like from above. / So sieht ein irdischer Sonnenuntergang aus, von oben gesehen. #Horizons #Archive\n",
      "Congratulations to our orbiting companion! \n",
      "@NASA's MRO Completes 60,000 Trips Around #Mars: https://go.nasa.gov/2w0c36K .\n",
      "InSight sol 165 (2019-05-15) low -100.3ºC (-148.6ºF) high -18.2ºC (-0.7ºF)\n",
      "winds from the SW at 4.6 m/s (10.4 mph) gusting to 13.7 m/s (30.6 mph)\n",
      "pressure at 7.50 hPa\n",
      "InSight sol 164 (2019-05-13) low -100.0ºC (-147.9ºF) high -16.6ºC (2.1ºF)\n",
      "winds from the W at 4.1 m/s (9.1 mph) gusting to 15.1 m/s (33.7 mph)\n",
      "pressure at 7.50 hPa\n",
      "Oh.   Oh my.   More clouds after sunset seen by Curiosity.  https://marsmobile.jpl.nasa.gov/msl/multimedia/raw/?s=2405&camera=NAV_RIGHT_ …     Just imagine standing in the foothills of Mt Sharp as the chill of the night arrives, and watching these clouds float past.\n",
      "InSight sol 163 (2019-05-13) low -99.9ºC (-147.7ºF) high -17.7ºC (0.2ºF)\n",
      "winds from the SW at 4.3 m/s (9.7 mph) gusting to 15.2 m/s (34.0 mph)\n",
      "pressure at 7.50 hPa\n",
      "InSight sol 162 (2019-05-12) low -100.2ºC (-148.3ºF) high -20.3ºC (-4.5ºF)\n",
      "winds from the SW at 4.5 m/s (10.1 mph) gusting to 14.3 m/s (32.0 mph)\n",
      "pressure at 7.50 hPa\n",
      "InSight sol 161 (2019-05-11) low -98.6ºC (-145.5ºF) high -19.5ºC (-3.0ºF)\n",
      "winds from the SSE at 4.8 m/s (10.7 mph) gusting to 15.2 m/s (34.0 mph)\n",
      "pressure at 7.50 hPa\n",
      "InSight sol 160 (2019-05-09) low -99.5ºC (-147.0ºF) high -19.4ºC (-2.8ºF)\n",
      "winds from the W at 4.2 m/s (9.3 mph) gusting to 13.5 m/s (30.3 mph)\n",
      "pressure at 7.40 hPa\n",
      "InSight sol 159 (2019-05-08) low -100.3ºC (-148.5ºF) high -21.6ºC (-6.9ºF)\n",
      "winds from the SW at 4.6 m/s (10.4 mph) gusting to 15.3 m/s (34.2 mph)\n",
      "pressure at 7.40 hPa\n",
      "InSight sol 158 (2019-05-07) low -99.7ºC (-147.5ºF) high -21.8ºC (-7.2ºF)\n",
      "winds from the SSE at 4.8 m/s (10.7 mph) gusting to 13.6 m/s (30.4 mph)\n",
      "pressure at 7.50 hPa\n",
      "InSight sol 157 (2019-05-06) low -100.2ºC (-148.4ºF) high -18.4ºC (-1.2ºF)\n",
      "winds from the W at 4.1 m/s (9.2 mph) gusting to 14.6 m/s (32.7 mph)\n",
      "pressure at 7.40 hPa\n",
      "InSight sol 156 (2019-05-05) low -99.2ºC (-146.6ºF) high -18.1ºC (-0.6ºF)\n",
      "winds from the SW at 4.7 m/s (10.5 mph) gusting to 13.8 m/s (30.8 mph)\n",
      "pressure at 7.40 hPa\n",
      "InSight sol 155 (2019-05-04) low -99.3ºC (-146.8ºF) high -18.8ºC (-1.8ºF)\n",
      "winds from the SW at 4.5 m/s (10.1 mph) gusting to 14.3 m/s (31.9 mph)\n",
      "pressure at 7.40 hPa\n",
      "I’m often asked if I prefer Star Wars or Star Trek. My answer? Neither.\n",
      "\n",
      "My favorite sci-fi movie is Spaceballs. #StarWarsDay #MayThe4thBeWithYou\n",
      "InSight sol 154 (2019-05-03) low -97.6ºC (-143.7ºF) high -17.2ºC (1.0ºF)\n",
      "winds from the SW at 4.5 m/s (10.0 mph) gusting to 13.1 m/s (29.2 mph)\n",
      "pressure at 7.40 hPa\n",
      "InSight sol 153 (2019-05-02) low -98.5ºC (-145.3ºF) high -17.5ºC (0.6ºF)\n",
      "winds from the SW at 4.7 m/s (10.5 mph) gusting to 11.9 m/s (26.6 mph)\n",
      "pressure at 7.40 hPa\n",
      "InSight sol 152 (2019-05-01) low -98.1ºC (-144.5ºF) high -17.2ºC (1.0ºF)\n",
      "winds from the SW at 4.8 m/s (10.7 mph) gusting to 13.2 m/s (29.5 mph)\n",
      "pressure at 7.40 hPa\n"
     ]
    }
   ],
   "source": [
    "# Get list of all weather reports\n",
    "\n",
    "tweets = twitter_browser.find_elements_by_class_name('tweet-text')\n",
    "mars_weathers = []\n",
    "for tweet in tweets:\n",
    "    mars_weathers.append(tweet.text)\n",
    "    print(tweet.text)\n",
    "twitter_browser.quit()"
   ]
  },
  {
   "cell_type": "code",
   "execution_count": 136,
   "metadata": {},
   "outputs": [
    {
     "data": {
      "text/plain": [
       "'InSight sol 167 (2019-05-17) low -100.5ºC (-148.9ºF) high -20.4ºC (-4.6ºF)\\nwinds from the SW at 4.7 m/s (10.6 mph) gusting to 13.5 m/s (30.3 mph)\\npressure at 7.50 hPa'"
      ]
     },
     "execution_count": 136,
     "metadata": {},
     "output_type": "execute_result"
    }
   ],
   "source": [
    "# Select first/most recent weather report\n",
    "\n",
    "current_mars_weather = mars_weathers[0]\n",
    "current_mars_weather"
   ]
  },
  {
   "cell_type": "code",
   "execution_count": 97,
   "metadata": {},
   "outputs": [
    {
     "name": "stdout",
     "output_type": "stream",
     "text": [
      "                      0                              1\n",
      "0  Equatorial Diameter:                       6,792 km\n",
      "1       Polar Diameter:                       6,752 km\n",
      "2                 Mass:  6.42 x 10^23 kg (10.7% Earth)\n",
      "3                Moons:            2 (Phobos & Deimos)\n",
      "4       Orbit Distance:       227,943,824 km (1.52 AU)\n",
      "5         Orbit Period:           687 days (1.9 years)\n",
      "6  Surface Temperature:                  -153 to 20 °C\n",
      "7         First Record:              2nd millennium BC\n",
      "8          Recorded By:           Egyptian astronomers\n"
     ]
    }
   ],
   "source": [
    "# MARS FACTS\n",
    "# -----------------------------------------------------------------------------------------------------\n",
    "\n",
    "# Pull mars facts table into a DF\n",
    "\n",
    "mars_table_url = \"https://space-facts.com/mars/\"\n",
    "mars_tables = pd.read_html(mars_table_url)\n",
    "\n",
    "mars_df = mars_tables[0]\n",
    "mars_df.columns = ['0', '1']\n",
    "mars_df = mars_df.iloc[0:]\n",
    "\n",
    "print(mars_df)"
   ]
  },
  {
   "cell_type": "code",
   "execution_count": 98,
   "metadata": {},
   "outputs": [
    {
     "data": {
      "text/plain": [
       "'<table border=\"1\" class=\"dataframe table table-striped\">  <thead>    <tr style=\"text-align: right;\">      <th></th>      <th>0</th>      <th>1</th>    </tr>  </thead>  <tbody>    <tr>      <th>0</th>      <td>Equatorial Diameter:</td>      <td>6,792 km</td>    </tr>    <tr>      <th>1</th>      <td>Polar Diameter:</td>      <td>6,752 km</td>    </tr>    <tr>      <th>2</th>      <td>Mass:</td>      <td>6.42 x 10^23 kg (10.7% Earth)</td>    </tr>    <tr>      <th>3</th>      <td>Moons:</td>      <td>2 (Phobos &amp; Deimos)</td>    </tr>    <tr>      <th>4</th>      <td>Orbit Distance:</td>      <td>227,943,824 km (1.52 AU)</td>    </tr>    <tr>      <th>5</th>      <td>Orbit Period:</td>      <td>687 days (1.9 years)</td>    </tr>    <tr>      <th>6</th>      <td>Surface Temperature:</td>      <td>-153 to 20 °C</td>    </tr>    <tr>      <th>7</th>      <td>First Record:</td>      <td>2nd millennium BC</td>    </tr>    <tr>      <th>8</th>      <td>Recorded By:</td>      <td>Egyptian astronomers</td>    </tr>  </tbody></table>'"
      ]
     },
     "execution_count": 98,
     "metadata": {},
     "output_type": "execute_result"
    }
   ],
   "source": [
    "# Convert DF to html code\n",
    "table_object = mars_df.to_html(classes=\"table table-striped\")\n",
    "table_object = table_object.replace('\\n', '')\n",
    "table_object\n"
   ]
  },
  {
   "cell_type": "code",
   "execution_count": 53,
   "metadata": {},
   "outputs": [],
   "source": [
    "# MARS IMAGES LIST FROM USGS\n",
    "# -----------------------------------------------------------------------------------------------------\n",
    "\n",
    "\n",
    "\n",
    "usgs_url = \"https://astrogeology.usgs.gov/search/results?q=hemisphere+enhanced&k1=target&v1=Mars\"\n",
    "usgs_request = req.get(usgs_url)"
   ]
  },
  {
   "cell_type": "code",
   "execution_count": 54,
   "metadata": {},
   "outputs": [],
   "source": [
    "usgs_soup = bs(usgs_request.text, \"html.parser\")\n",
    "hemisphere_list = usgs_soup.find_all('a', class_='itemLink product-item')\n"
   ]
  },
  {
   "cell_type": "code",
   "execution_count": 67,
   "metadata": {},
   "outputs": [
    {
     "name": "stdout",
     "output_type": "stream",
     "text": [
      "/search/map/Mars/Viking/cerberus_enhanced\n",
      "/search/map/Mars/Viking/schiaparelli_enhanced\n",
      "/search/map/Mars/Viking/syrtis_major_enhanced\n",
      "/search/map/Mars/Viking/valles_marineris_enhanced\n"
     ]
    }
   ],
   "source": [
    "# Link Setup\n",
    "\n",
    "hemi_link_1 = hemisphere_list[0]['href']\n",
    "hemi_link_2 = hemisphere_list[1]['href']\n",
    "hemi_link_3 = hemisphere_list[2]['href']\n",
    "hemi_link_4 = hemisphere_list[3]['href']\n",
    "\n",
    "print(hemi_link_1)\n",
    "print(hemi_link_2)\n",
    "print(hemi_link_3)\n",
    "print(hemi_link_4)\n"
   ]
  },
  {
   "cell_type": "code",
   "execution_count": 73,
   "metadata": {},
   "outputs": [
    {
     "name": "stdout",
     "output_type": "stream",
     "text": [
      "https://astrogeology.usgs.gov/search/map/Mars/Viking/valles_marineris_enhanced\n"
     ]
    }
   ],
   "source": [
    "\n",
    "hemi_base_url = 'https://astrogeology.usgs.gov'\n",
    "cerberus_url = hemi_base_url + hemi_link_1\n",
    "schiaparelli_url = hemi_base_url + hemi_link_2\n",
    "syrtis_url = hemi_base_url + hemi_link_3\n",
    "valles_url = hemi_base_url + hemi_link_4\n",
    "urls = [cerberus_url, schiaparelli_url, syrtis_url, valles_url]\n",
    "\n",
    "print(urls[3])"
   ]
  },
  {
   "cell_type": "code",
   "execution_count": 102,
   "metadata": {},
   "outputs": [
    {
     "name": "stdout",
     "output_type": "stream",
     "text": [
      "['https://astrogeology.usgs.gov/cache/images/cfa62af2557222a02478f1fcd781d445_cerberus_enhanced.tif_full.jpg', 'https://astrogeology.usgs.gov/cache/images/3cdd1cbf5e0813bba925c9030d13b62e_schiaparelli_enhanced.tif_full.jpg', 'https://astrogeology.usgs.gov/cache/images/ae209b4e408bb6c3e67b6af38168cf28_syrtis_major_enhanced.tif_full.jpg', 'https://astrogeology.usgs.gov/cache/images/7cf2da4bf549ed01c17f206327be4db7_valles_marineris_enhanced.tif_full.jpg']\n"
     ]
    }
   ],
   "source": [
    "images = []\n",
    "headers = []\n",
    "for url in urls:\n",
    "    img_req = req.get(url)\n",
    "    img_soup = bs(img_req.text, \"html.parser\")\n",
    "    img_item = img_soup.find('img', class_='wide-image')\n",
    "    images.append(hemi_base_url+img_item['src'])\n",
    "    title = img_soup.find('h2', class_='title')\n",
    "    headers.append(title.text)\n",
    "    \n",
    "print(images)\n",
    "    "
   ]
  },
  {
   "cell_type": "code",
   "execution_count": 104,
   "metadata": {},
   "outputs": [
    {
     "name": "stdout",
     "output_type": "stream",
     "text": [
      "[{'title': 'Cerberus Hemisphere Enhanced', 'img_url': 'https://astrogeology.usgs.gov/cache/images/cfa62af2557222a02478f1fcd781d445_cerberus_enhanced.tif_full.jpg'}, {'title': 'Schiaparelli Hemisphere Enhanced', 'img_url': 'https://astrogeology.usgs.gov/cache/images/3cdd1cbf5e0813bba925c9030d13b62e_schiaparelli_enhanced.tif_full.jpg'}, {'title': 'Syrtis Major Hemisphere Enhanced', 'img_url': 'https://astrogeology.usgs.gov/cache/images/ae209b4e408bb6c3e67b6af38168cf28_syrtis_major_enhanced.tif_full.jpg'}, {'title': 'Valles Marineris Hemisphere Enhanced', 'img_url': 'https://astrogeology.usgs.gov/cache/images/7cf2da4bf549ed01c17f206327be4db7_valles_marineris_enhanced.tif_full.jpg'}]\n"
     ]
    }
   ],
   "source": [
    "hemisphere_image_urls = [{'title':headers[0], 'img_url': images[0]},\n",
    "                    {'title':headers[1], 'img_url': images[1]},\n",
    "                    {'title':headers[2], 'img_url': images[2]},\n",
    "                    {'title':headers[3], 'img_url': images[3]},\n",
    "                   ]\n",
    "print(hemisphere_image_urls)"
   ]
  },
  {
   "cell_type": "code",
   "execution_count": null,
   "metadata": {},
   "outputs": [],
   "source": [
    "mars_data_dict = {\"News_Title\": news_title,\n",
    "                 \"News_Description\": news_desc,\n",
    "                 \"Featured_Image\": featured_image_link,\n",
    "                 \"Mars_Weather\": current_mars_weather,\n",
    "                  \"Hemispheres\" : hemisphere_image_urls\n",
    "                 }"
   ]
  },
  {
   "cell_type": "code",
   "execution_count": null,
   "metadata": {},
   "outputs": [],
   "source": [
    "return mars_data_dict"
   ]
  },
  {
   "cell_type": "code",
   "execution_count": null,
   "metadata": {},
   "outputs": [],
   "source": []
  },
  {
   "cell_type": "code",
   "execution_count": null,
   "metadata": {},
   "outputs": [],
   "source": []
  },
  {
   "cell_type": "code",
   "execution_count": null,
   "metadata": {},
   "outputs": [],
   "source": []
  }
 ],
 "metadata": {
  "kernelspec": {
   "display_name": "Python 3",
   "language": "python",
   "name": "python3"
  },
  "language_info": {
   "codemirror_mode": {
    "name": "ipython",
    "version": 3
   },
   "file_extension": ".py",
   "mimetype": "text/x-python",
   "name": "python",
   "nbconvert_exporter": "python",
   "pygments_lexer": "ipython3",
   "version": "3.7.1"
  }
 },
 "nbformat": 4,
 "nbformat_minor": 2
}
